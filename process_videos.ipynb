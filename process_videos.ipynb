{
 "cells": [
  {
   "cell_type": "markdown",
   "id": "bbe5939b",
   "metadata": {},
   "source": [
    "# Image restoration for deep-sea ROV underwater videos\n",
    "\n",
    "Steps:\n",
    "1) Noise reduction - smoothing (usually skipped)\n",
    "2) UDCP(Underwater Dark Channel Prior) - underwater color restoration\n",
    "3) White balancing\n",
    "4) Contrast enhancement - CLAHE on LAB (doesn't change color balance and hue)\n",
    "5) Color correction - CLAHE on RGB (obs; can alter color balance and hue), or\n",
    "6) Edge enhancement - Sobel/Canny\n",
    "7) Sharpening - Unsharp mask"
   ]
  },
  {
   "cell_type": "code",
   "execution_count": 6,
   "id": "bd50f630",
   "metadata": {},
   "outputs": [],
   "source": [
    "#%% import custom functions\n",
    "from restoration_toolbox import *"
   ]
  },
  {
   "cell_type": "code",
   "execution_count": 7,
   "id": "49be77fe",
   "metadata": {},
   "outputs": [],
   "source": [
    "#%% Set directory\n",
    "WORKING_DIR = \"C:\\\\Users\\\\torha\\\\div.prog\\\\Image-analysis\\\\Preprocessing\\\\\"\n",
    "VIDEO_DIR = \"2019\\\\HD\\\\test-videos\\\\\"\n",
    "OUTPUT_VID = \"2019\\\\HD\\\\result-videos\\\\\""
   ]
  },
  {
   "cell_type": "code",
   "execution_count": 8,
   "id": "440c7ac6",
   "metadata": {},
   "outputs": [],
   "source": [
    "# test video\n",
    "two_lissodendoryx_megaatrialia_15sek = VIDEO_DIR + \"2_lissodendoryx_megaatrialia_15sek.mp4\""
   ]
  },
  {
   "cell_type": "code",
   "execution_count": 9,
   "id": "76f1971e",
   "metadata": {},
   "outputs": [
    {
     "name": "stdout",
     "output_type": "stream",
     "text": [
      "Input file: 2019\\HD\\test-videos\\2_lissodendoryx_megaatrialia_15sek.mp4\n"
     ]
    }
   ],
   "source": [
    "video_path = two_lissodendoryx_megaatrialia_15sek   #### SET VIDEO HERE ####\n",
    "print(\"Input file: \" + video_path)"
   ]
  },
  {
   "cell_type": "code",
   "execution_count": 5,
   "id": "08406664",
   "metadata": {},
   "outputs": [],
   "source": [
    "#%% process video\n",
    "process_video(video_for_processing=video_path, \n",
    "              output_vid_name=OUTPUT_VID+\"output_video_h264.mp4\",\n",
    "              processing_func=full_preprocessing3_7_2019hd,\n",
    "              video_codec='H264')"
   ]
  },
  {
   "cell_type": "code",
   "execution_count": null,
   "id": "f6bf3ebf",
   "metadata": {},
   "outputs": [],
   "source": []
  }
 ],
 "metadata": {
  "kernelspec": {
   "display_name": "Python 3 (ipykernel)",
   "language": "python",
   "name": "python3"
  },
  "language_info": {
   "codemirror_mode": {
    "name": "ipython",
    "version": 3
   },
   "file_extension": ".py",
   "mimetype": "text/x-python",
   "name": "python",
   "nbconvert_exporter": "python",
   "pygments_lexer": "ipython3",
   "version": "3.11.4"
  }
 },
 "nbformat": 4,
 "nbformat_minor": 5
}
