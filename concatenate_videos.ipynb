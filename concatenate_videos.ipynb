{
 "cells": [
  {
   "cell_type": "markdown",
   "id": "f4884294",
   "metadata": {},
   "source": [
    "# Concatenate videos for visual comparison\n",
    "1) Concatenate in series, several shorter video clips into 1 longer video.\n",
    "2) Process/restore the combined video.\n",
    "3) Concatenate the Original and Restored videos side-by-side for visual comparison.\n"
   ]
  },
  {
   "cell_type": "code",
   "execution_count": 1,
   "id": "1b2346eb",
   "metadata": {},
   "outputs": [],
   "source": [
    "#%% import libraries\n",
    "import numpy as np\n",
    "import cv2\n",
    "\n",
    "# custom functions\n",
    "from restoration_toolbox import *"
   ]
  },
  {
   "cell_type": "code",
   "execution_count": 2,
   "id": "63f322a4",
   "metadata": {},
   "outputs": [],
   "source": [
    "#%% Set directory\n",
    "WORKING_DIR = \"C:\\\\Users\\\\torha\\\\div.prog\\\\Image-analysis\\\\Preprocessing\\\\\"\n",
    "VIDEO_DIR = \"2019\\\\HD\\\\test-videos\\\\\"\n",
    "OUTPUT_VID = \"2019\\\\HD\\\\result-videos\\\\\"\n",
    "\n",
    "# test videos\n",
    "videoA = VIDEO_DIR + \"videoA.mp4\"\n",
    "videoB = VIDEO_DIR + \"videoB.mp4\"\n",
    "list_of_original_short_clips = [videoA, videoB]"
   ]
  },
  {
   "cell_type": "code",
   "execution_count": null,
   "id": "cec28d36",
   "metadata": {},
   "outputs": [],
   "source": [
    "# concatenate several video clips into 1 video\n",
    "video_list = list_of_original_short_clips\n",
    "concatenate_videos(video_list, OUTPUT_VID + 'concatenated_video_clips.mp4')"
   ]
  },
  {
   "cell_type": "code",
   "execution_count": null,
   "id": "cf74ac62",
   "metadata": {},
   "outputs": [],
   "source": [
    "# Run image restoration (2019 HD parameter settings) on combined video\n",
    "process_video(video_for_processing=OUTPUT_VID + 'concatenated_video_clips.mp4', \n",
    "              output_vid_name=OUTPUT_VID+\"concatenated_video_clips_processed_steps3_7.mp4\",\n",
    "              processing_func=full_preprocessing3_7_2019hd,\n",
    "              video_codec='H264')"
   ]
  },
  {
   "cell_type": "code",
   "execution_count": null,
   "id": "950842bd",
   "metadata": {},
   "outputs": [],
   "source": [
    "# Prepare videos for concatenation - now side by side\n",
    "concatenated_video = OUTPUT_VID + \"concatenated_video_clips.mp4\"\n",
    "concatenated_video_processed_steps3_7 = OUTPUT_VID + \"concatenated_video_clips_processed_steps3_7.mp4\"\n",
    "list_of_concat_vids = [concatenated_video, concatenated_video_processed_steps3_7]"
   ]
  },
  {
   "cell_type": "code",
   "execution_count": null,
   "id": "6a0f0ef0",
   "metadata": {},
   "outputs": [],
   "source": [
    "# Comparison of Original video(left) and Restored video(right) playing next to each other\n",
    "combine_videos_side_by_side(concatenated_video, concatenated_video_processed_steps3_7, 'SideBySideComparison.mp4')"
   ]
  }
 ],
 "metadata": {
  "kernelspec": {
   "display_name": "Python 3 (ipykernel)",
   "language": "python",
   "name": "python3"
  },
  "language_info": {
   "codemirror_mode": {
    "name": "ipython",
    "version": 3
   },
   "file_extension": ".py",
   "mimetype": "text/x-python",
   "name": "python",
   "nbconvert_exporter": "python",
   "pygments_lexer": "ipython3",
   "version": "3.11.4"
  }
 },
 "nbformat": 4,
 "nbformat_minor": 5
}
